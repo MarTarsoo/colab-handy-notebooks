{
  "nbformat": 4,
  "nbformat_minor": 0,
  "metadata": {
    "colab": {
      "name": "vobsub2srt.ipynb",
      "provenance": [],
      "collapsed_sections": [],
      "authorship_tag": "ABX9TyMyqCr8eNxR19Fac44dhHa+",
      "include_colab_link": true
    },
    "kernelspec": {
      "name": "python3",
      "display_name": "Python 3"
    },
    "language_info": {
      "name": "python"
    },
    "accelerator": "GPU"
  },
  "cells": [
    {
      "cell_type": "markdown",
      "metadata": {
        "id": "view-in-github",
        "colab_type": "text"
      },
      "source": [
        "<a href=\"https://colab.research.google.com/github/darkido/colab-handy-notebooks/blob/main/vobsub2srt.ipynb\" target=\"_parent\"><img src=\"https://colab.research.google.com/assets/colab-badge.svg\" alt=\"Open In Colab\"/></a>"
      ]
    },
    {
      "cell_type": "code",
      "execution_count": null,
      "metadata": {
        "id": "oB-IqzddaBRq",
        "cellView": "form"
      },
      "outputs": [],
      "source": [
        "#@title Install \n",
        "!apt-get update\n",
        "!apt-get install tesseract-ocr transcode subtitleripper\n",
        "!pip install git+https://github.com/jaidedai/easyocr.git\n"
      ]
    },
    {
      "cell_type": "code",
      "source": [
        "#@title Load\n",
        "import easyocr\n",
        "reader = easyocr.Reader(['fa','en']) # this needs to run only once to load the model into memory\n"
      ],
      "metadata": {
        "id": "ThU00GvHlx1H",
        "cellView": "form"
      },
      "execution_count": null,
      "outputs": []
    },
    {
      "cell_type": "code",
      "source": [
        "\n",
        "#@title Convert sub to srt\n",
        "subfile = \"107_-_Brian_-_Portrait_Of_A_Dog.sub\" #@param {type:\"string\"}\n",
        "!tcextract -i \"{subfile}\" -x ps1 -a 0x20 > file.ps1\n",
        "!subtitle2pgm -i file.ps1 -o file -P  -g 3 \n",
        "srtx= open(\"file.srtx\").readlines()\n",
        "i=0\n",
        "with open(subfile[:-4]+\".srt\",\"w\") as f:\n",
        "    for line in srtx:\n",
        "        text=line\n",
        "        if(\".png.txt\" in line):\n",
        "            result = reader.readtext(line[:-5])\n",
        "            result.sort(reverse=True)\n",
        "            text=\" \".join(r[1] for r in result)\n",
        "            text+=\"\\n\"\n",
        "            print(f\"{i}- {text}\")\n",
        "            i+=1\n",
        "        f.write(text)\n",
        "!rm *.png file.srtx file.ps1\n",
        "  \n",
        "     "
      ],
      "metadata": {
        "cellView": "form",
        "id": "5V2NWUvg35Uc"
      },
      "execution_count": null,
      "outputs": []
    }
  ]
}